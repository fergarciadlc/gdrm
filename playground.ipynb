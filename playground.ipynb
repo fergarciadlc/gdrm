{
 "cells": [
  {
   "cell_type": "code",
   "execution_count": null,
   "metadata": {},
   "outputs": [],
   "source": [
    "import music21\n",
    "\n",
    "music21.environment.set('musicxmlPath', '/Applications/MuseScore 4.app')"
   ]
  },
  {
   "cell_type": "code",
   "execution_count": null,
   "metadata": {},
   "outputs": [],
   "source": [
    "from music21 import converter, tempo\n",
    "\n",
    "# Load the MIDI file\n",
    "score = converter.parse(\n",
    "    \"/Users/fernando/dev/upf/cmc24/gdrm/dataset/drummer1/session1/4_jazz-funk_116_beat_4-4.mid\",\n",
    "    format=\"midi\",\n",
    "    quantizePost=False,\n",
    ")"
   ]
  },
  {
   "cell_type": "code",
   "execution_count": null,
   "metadata": {},
   "outputs": [],
   "source": [
    "score.show(\"xml\")"
   ]
  },
  {
   "cell_type": "code",
   "execution_count": null,
   "metadata": {},
   "outputs": [],
   "source": [
    "\n",
    "\n",
    "# Get tempo markings from the score\n",
    "tempo_markings = score.metronomeMarkBoundaries()\n",
    "\n",
    "# Display BPM\n",
    "for start, end, metronomeMark in tempo_markings:\n",
    "    if isinstance(metronomeMark, tempo.MetronomeMark):\n",
    "        print(f\"Tempo: {metronomeMark.number} BPM (from offset {start} to {end})\")"
   ]
  },
  {
   "cell_type": "code",
   "execution_count": null,
   "metadata": {},
   "outputs": [],
   "source": [
    "tempo_markings"
   ]
  },
  {
   "cell_type": "code",
   "execution_count": null,
   "metadata": {},
   "outputs": [],
   "source": [
    "midi_path = \"music21_output.mid\"\n",
    "score.write('midi', fp=midi_path)\n",
    "\n",
    "print(f\"MIDI file saved to {midi_path}\")"
   ]
  },
  {
   "cell_type": "code",
   "execution_count": null,
   "metadata": {},
   "outputs": [],
   "source": []
  },
  {
   "cell_type": "code",
   "execution_count": null,
   "metadata": {},
   "outputs": [],
   "source": [
    "score.__dir__()"
   ]
  },
  {
   "cell_type": "code",
   "execution_count": null,
   "metadata": {},
   "outputs": [],
   "source": [
    "converter.subConverters.ConverterJSON"
   ]
  },
  {
   "cell_type": "code",
   "execution_count": null,
   "metadata": {},
   "outputs": [],
   "source": []
  },
  {
   "cell_type": "code",
   "execution_count": null,
   "metadata": {},
   "outputs": [],
   "source": [
    "for part in score.parts:\n",
    "    print(part)\n",
    "    for note in part.flat.notes:\n",
    "        print(note)"
   ]
  },
  {
   "cell_type": "code",
   "execution_count": null,
   "metadata": {},
   "outputs": [],
   "source": [
    "note"
   ]
  },
  {
   "cell_type": "code",
   "execution_count": null,
   "metadata": {},
   "outputs": [],
   "source": [
    "import muspy\n",
    "\n",
    "music = muspy.from_music21_score(score)"
   ]
  },
  {
   "cell_type": "code",
   "execution_count": null,
   "metadata": {},
   "outputs": [],
   "source": [
    "score.show(\"text\")"
   ]
  },
  {
   "cell_type": "code",
   "execution_count": null,
   "metadata": {},
   "outputs": [],
   "source": [
    "music_dict = music.to_ordered_dict()"
   ]
  },
  {
   "cell_type": "code",
   "execution_count": null,
   "metadata": {},
   "outputs": [],
   "source": [
    "dict(dict(music_dict)[\"barlines\"][0])"
   ]
  },
  {
   "cell_type": "code",
   "execution_count": null,
   "metadata": {},
   "outputs": [],
   "source": [
    "from music21 import stream\n",
    "\n",
    "my_dict = {}\n",
    "\n",
    "# Iterate over each Part in the Score\n",
    "for p in score.parts:\n",
    "    # Iterate over the Measure objects in each Part\n",
    "    for meas in p.getElementsByClass(stream.Measure):\n",
    "        offset = meas.offset  # the offset of the measure in the Part\n",
    "        measure_number = meas.measureNumber\n",
    "        \n",
    "        # Gather the notes (and rests) in that measure\n",
    "        # (or use notesAndRests, or getElementsByClass('Note') if you only want notes, etc.)\n",
    "        notes_list = list(meas.notesAndRests)\n",
    "        \n",
    "        # You can store anything else you want, like key signatures, clefs, etc.:\n",
    "        # key_signature = meas.keySignature\n",
    "        # clef = meas.clef\n",
    "        # time_signature = meas.timeSignature\n",
    "        \n",
    "        # Build up the dictionary entry\n",
    "        my_dict[offset] = {\n",
    "            'measure_number': measure_number,\n",
    "            'notes': notes_list,\n",
    "            # 'key_signature': key_signature,\n",
    "            # 'clef': clef,\n",
    "            # 'time_signature': time_signature,\n",
    "        }\n",
    "\n",
    "# Now my_dict has your measure offsets as keys, and each value holds measure metadata.\n"
   ]
  },
  {
   "cell_type": "code",
   "execution_count": null,
   "metadata": {},
   "outputs": [],
   "source": [
    "from music21 import stream"
   ]
  },
  {
   "cell_type": "code",
   "execution_count": null,
   "metadata": {},
   "outputs": [],
   "source": [
    "my_notes_info = []\n",
    "my_just_notes = []\n",
    "my_pitches = []\n",
    "\n",
    "for part in score.parts:\n",
    "    for measure in part.getElementsByClass(stream.Measure):\n",
    "        # measureOffset is measure.offset -- offset in the Part\n",
    "        measureOffset = measure.offset\n",
    "        measureNumber = measure.measureNumber\n",
    "        \n",
    "        for n in measure.notesAndRests:\n",
    "            # offset in the measure:\n",
    "            noteLocalOffset = n.offset  \n",
    "            # absolute offset in the entire Score:\n",
    "            noteGlobalOffset = n.getOffsetInHierarchy(score)\n",
    "\n",
    "            my_notes_info.append({\n",
    "                'measureNumber': measureNumber,\n",
    "                'measureOffset': measureOffset,\n",
    "                'noteLocalOffset': noteLocalOffset,\n",
    "                'noteGlobalOffset': noteGlobalOffset,\n",
    "                'element': n,\n",
    "                \"measureOffsetFloat\": float(measureOffset),\n",
    "                \"noteLocalOffsetFloat\": float(noteLocalOffset),\n",
    "                \"noteGlobalOffsetFloat\": float(noteGlobalOffset),\n",
    "            })\n",
    "\n",
    "        for n in measure.notes:\n",
    "            my_just_notes.append(n)\n",
    "\n",
    "        for n in measure.pitches:\n",
    "            my_pitches.append(n)\n",
    "\n",
    "# Now `my_notes_info` is a list of dicts describing each note/rest’s offsets"
   ]
  },
  {
   "cell_type": "code",
   "execution_count": null,
   "metadata": {},
   "outputs": [],
   "source": [
    "score.parts[0].__dir__()"
   ]
  },
  {
   "cell_type": "code",
   "execution_count": null,
   "metadata": {},
   "outputs": [],
   "source": [
    "measure.__dir__()"
   ]
  },
  {
   "cell_type": "code",
   "execution_count": null,
   "metadata": {},
   "outputs": [],
   "source": []
  },
  {
   "cell_type": "code",
   "execution_count": null,
   "metadata": {},
   "outputs": [],
   "source": [
    "my_notes_info"
   ]
  },
  {
   "cell_type": "code",
   "execution_count": null,
   "metadata": {},
   "outputs": [],
   "source": [
    "# imoprt Fraction\n",
    "from fractions import Fraction"
   ]
  },
  {
   "cell_type": "code",
   "execution_count": null,
   "metadata": {},
   "outputs": [],
   "source": [
    "float(Fraction(817, 240))"
   ]
  },
  {
   "cell_type": "code",
   "execution_count": null,
   "metadata": {},
   "outputs": [],
   "source": [
    "my_notes_info[17]"
   ]
  },
  {
   "cell_type": "code",
   "execution_count": null,
   "metadata": {},
   "outputs": [],
   "source": [
    "269 + (4*240)"
   ]
  },
  {
   "cell_type": "code",
   "execution_count": null,
   "metadata": {},
   "outputs": [],
   "source": [
    "import numpy as np\n",
    "sixteenth_divs = np.linspace(0, 4, 32, endpoint=False)\n",
    "eighth_triplet_divs = np.linspace(0, 4, 24, endpoint=False)\n",
    "total_divs = set(sixteenth_divs).union(set(eighth_triplet_divs))\n",
    "total_divs = sorted(list(total_divs))\n",
    "\n",
    "total_divs.append(4.0)\n",
    "print(total_divs)\n",
    "print(len(total_divs))\n"
   ]
  },
  {
   "cell_type": "code",
   "execution_count": null,
   "metadata": {},
   "outputs": [],
   "source": [
    "def closest_value(target, values=tuple(total_divs)):\n",
    "    \"\"\"\n",
    "    Returns the closest value in 'values' to the given 'target'.\n",
    "    \"\"\"\n",
    "    return min(values, key=lambda x: abs(x - target))\n",
    "\n",
    "# Example usage:\n",
    "print(closest_value(0.1))     # Should return 0.125 (since it's closest to 0.1)\n",
    "print(closest_value(0.2))     # Could return 0.166666..., as it's closer to 0.2 than 0.125\n",
    "print(closest_value(0.3))     # Should return 0.25"
   ]
  },
  {
   "cell_type": "code",
   "execution_count": null,
   "metadata": {},
   "outputs": [],
   "source": [
    "closest_value(3.99)"
   ]
  },
  {
   "cell_type": "code",
   "execution_count": null,
   "metadata": {},
   "outputs": [],
   "source": [
    "# for note in my_notes_info:\n",
    "#     note[\"quantized_value\"] = closest_value(note[\"noteLocalOffsetFloat\"])\n",
    "# print(\"Done\")"
   ]
  },
  {
   "cell_type": "code",
   "execution_count": null,
   "metadata": {},
   "outputs": [],
   "source": [
    "my_notes_info"
   ]
  },
  {
   "cell_type": "code",
   "execution_count": null,
   "metadata": {},
   "outputs": [],
   "source": [
    "from collections import defaultdict"
   ]
  },
  {
   "cell_type": "code",
   "execution_count": null,
   "metadata": {},
   "outputs": [],
   "source": [
    "bars = defaultdict(list)\n",
    "for note in my_notes_info:\n",
    "    quantized_value = closest_value(note[\"noteLocalOffsetFloat\"])\n",
    "    if quantized_value == 4.0:\n",
    "        print(f\"Snapping forward note: {note}\")\n",
    "        bars[\"measureNumber\" + str(note[\"measureNumber\"] + 1)].append({\n",
    "            \"element\": note[\"element\"],\n",
    "            \"quantized_value\": 0.0\n",
    "        })\n",
    "    else:\n",
    "        bars[\"measureNumber\" + str(note[\"measureNumber\"])].append({\n",
    "            \"element\": note[\"element\"],\n",
    "            \"quantized_value\": quantized_value,\n",
    "        })"
   ]
  },
  {
   "cell_type": "code",
   "execution_count": null,
   "metadata": {},
   "outputs": [],
   "source": [
    "import json"
   ]
  },
  {
   "cell_type": "code",
   "execution_count": null,
   "metadata": {},
   "outputs": [],
   "source": [
    "dict(bars)"
   ]
  },
  {
   "cell_type": "code",
   "execution_count": null,
   "metadata": {},
   "outputs": [],
   "source": [
    "dict(bars).keys()"
   ]
  },
  {
   "cell_type": "code",
   "execution_count": null,
   "metadata": {},
   "outputs": [],
   "source": [
    "my_pitches"
   ]
  },
  {
   "cell_type": "code",
   "execution_count": null,
   "metadata": {},
   "outputs": [],
   "source": [
    "my_just_notes"
   ]
  },
  {
   "cell_type": "code",
   "execution_count": null,
   "metadata": {},
   "outputs": [],
   "source": [
    "my_just_notes = []\n",
    "\n",
    "for part in score.parts:\n",
    "    for measure in part.getElementsByClass(stream.Measure):\n",
    "        # measureOffset is measure.offset -- offset in the Part\n",
    "        measureOffset = measure.offset\n",
    "        measureNumber = measure.measureNumber\n",
    "        \n",
    "        for n in measure.notes:\n",
    "            # offset in the measure:\n",
    "            noteLocalOffset = n.offset  \n",
    "            # absolute offset in the entire Score:\n",
    "            noteGlobalOffset = n.getOffsetInHierarchy(score)\n",
    "\n",
    "            my_just_notes.append({\n",
    "                'measureNumber': measureNumber,\n",
    "                'measureOffset': measureOffset,\n",
    "                'noteLocalOffset': noteLocalOffset,\n",
    "                'noteGlobalOffset': noteGlobalOffset,\n",
    "                'element': n,\n",
    "                \"measureOffsetFloat\": float(measureOffset),\n",
    "                \"noteLocalOffsetFloat\": float(noteLocalOffset),\n",
    "                \"noteGlobalOffsetFloat\": float(noteGlobalOffset),\n",
    "            })\n",
    "\n",
    "        # for n in measure.notes:\n",
    "        #     my_just_notes.append(n)\n",
    "\n",
    "        # for n in measure.pitches:\n",
    "        #     my_pitches.append(n)\n",
    "\n",
    "# Now `my_notes_info` is a list of dicts describing each note/rest’s offsets"
   ]
  },
  {
   "cell_type": "code",
   "execution_count": null,
   "metadata": {},
   "outputs": [],
   "source": [
    "len(my_just_notes)"
   ]
  },
  {
   "cell_type": "code",
   "execution_count": null,
   "metadata": {},
   "outputs": [],
   "source": [
    "len(my_notes_info)"
   ]
  },
  {
   "cell_type": "code",
   "execution_count": null,
   "metadata": {},
   "outputs": [],
   "source": [
    "from music21 import stream, note, instrument, tempo, meter\n",
    "\n",
    "# Create an empty Score\n",
    "score = stream.Score()\n",
    "\n",
    "# Create a Part for the drum track\n",
    "drum_part = stream.Part()\n",
    "drum_part.id = 'Drums'\n",
    "\n",
    "# Insert a percussive instrument (this helps some MIDI players recognize it as percussion)\n",
    "drum_part.insert(0, instrument.UnpitchedPercussion())\n",
    "\n",
    "# Set a tempo (optional)\n",
    "drum_part.insert(0, tempo.MetronomeMark(number=120))  # 120 BPM\n",
    "\n",
    "# Set time signature (optional)\n",
    "drum_part.append(meter.TimeSignature('4/4'))\n",
    "\n",
    "#------------------------------------------------------------------------------\n",
    "# Add some drum notes explicitly\n",
    "# By default in General MIDI, channel 10 is often the drum channel,\n",
    "# and different pitch values correspond to different drum sounds:\n",
    "#   36 = Bass Drum 1\n",
    "#   38 = Acoustic Snare\n",
    "#   42 = Closed Hi-Hat\n",
    "#   46 = Open Hi-Hat\n",
    "# etc.\n",
    "#------------------------------------------------------------------------------\n",
    "\n",
    "# Measure 1 (4 quarter notes)\n",
    "drum_part.append(note.Note(36, quarterLength=1))  # Kick\n",
    "drum_part.append(note.Note(38, quarterLength=1))  # Snare\n",
    "drum_part.append(note.Note(36, quarterLength=1))  # Kick\n",
    "drum_part.append(note.Note(38, quarterLength=1))  # Snare\n",
    "\n",
    "# Measure 2 (4 quarter notes but let's mix it up a bit)\n",
    "drum_part.append(note.Note(36, quarterLength=0.5)) # Kick on eighth note\n",
    "drum_part.append(note.Note(36, quarterLength=0.5)) # Kick again\n",
    "drum_part.append(note.Note(38, quarterLength=1))   # Snare\n",
    "drum_part.append(note.Note(42, quarterLength=1))   # Closed Hi-hat\n",
    "\n",
    "# Repeat (just as an example)\n",
    "drum_part.append(note.Note(36, quarterLength=1))   # Kick\n",
    "drum_part.append(note.Note(38, quarterLength=1))   # Snare\n",
    "drum_part.append(note.Note(46, quarterLength=2))   # Open Hi-hat (2 beats)\n",
    "\n",
    "# Add the drum Part into the Score\n",
    "score.insert(0, drum_part)\n",
    "\n",
    "# Show the textual representation of the score in the console\n",
    "print(score.show('text'))\n",
    "\n",
    "# If you want to see the staff (in a music notation program) and also\n",
    "# hear the MIDI, you can do:\n",
    "# score.show()        # Tries to open your default music notation software\n",
    "score.show('xml')  # Plays back using your default MIDI player\n",
    "\n",
    "# You can also write the score to a MIDI file:\n",
    "# score.write('midi', fp='drum_track.mid')"
   ]
  },
  {
   "cell_type": "code",
   "execution_count": null,
   "metadata": {},
   "outputs": [],
   "source": [
    "from music21 import stream, note, chord, instrument, tempo, meter\n",
    "\n",
    "# Create an empty Score\n",
    "score = stream.Score()\n",
    "\n",
    "# Create a Part for the drum track\n",
    "drum_part = stream.Part()\n",
    "drum_part.id = 'Drums'\n",
    "\n",
    "# Insert a percussive instrument (this helps MIDI players recognize it as a drum part)\n",
    "drum_part.insert(0, instrument.UnpitchedPercussion())\n",
    "\n",
    "# Set a tempo (120 BPM) and a 4/4 time signature\n",
    "drum_part.insert(0, tempo.MetronomeMark(number=120))\n",
    "drum_part.append(meter.TimeSignature('4/4'))\n",
    "\n",
    "# Define one measure of a classic rock beat, broken into 8 eighth-notes:\n",
    "# Beat division:\n",
    "#   1    &    2    &    3    &    4    &\n",
    "#   Kick/HiHat   HiHat   Snare/HiHat   HiHat   Kick/HiHat   HiHat   Snare/HiHat   HiHat\n",
    "\n",
    "rock_measure = [\n",
    "    chord.Chord([36, 42], quarterLength=0.5),  # Kick + Closed Hi-Hat\n",
    "    chord.Chord([42],      quarterLength=0.5), # Closed Hi-Hat\n",
    "    chord.Chord([38, 42], quarterLength=0.5),  # Snare + Closed Hi-Hat\n",
    "    chord.Chord([42],      quarterLength=0.5), # Closed Hi-Hat\n",
    "    chord.Chord([36, 42], quarterLength=0.5),  # Kick + Closed Hi-Hat\n",
    "    chord.Chord([42],      quarterLength=0.5), # Closed Hi-Hat\n",
    "    chord.Chord([38, 42], quarterLength=0.5),  # Snare + Closed Hi-Hat\n",
    "    chord.Chord([42],      quarterLength=0.5), # Closed Hi-Hat\n",
    "]\n",
    "\n",
    "# Append two measures of this pattern:\n",
    "drum_part.append(rock_measure)\n",
    "# drum_part.append(rock_measure)\n",
    "\n",
    "# Add the drum part to the score\n",
    "score.insert(0, drum_part)\n",
    "\n",
    "# Display a text summary of the score\n",
    "print(score.show('text'))\n",
    "\n",
    "# If you want to see the traditional notation (and have MuseScore or Finale, etc. installed):\n",
    "score.show(\"xml\")\n",
    "\n",
    "# If you want to hear it:\n",
    "# score.show('midi')      # Plays the MIDI with your default MIDI player\n",
    "# score.write('midi', fp='rock_beat.mid')  # Saves it to a MIDI file"
   ]
  },
  {
   "cell_type": "code",
   "execution_count": null,
   "metadata": {},
   "outputs": [],
   "source": [
    "from music21 import stream, note, instrument, tempo, meter\n",
    "from copy import deepcopy\n",
    "# Create an empty Score\n",
    "score = stream.Score()\n",
    "\n",
    "# Create a Part for the drum track\n",
    "drum_part = stream.Part()\n",
    "drum_part.id = 'Drums'\n",
    "\n",
    "# Insert a percussive instrument (helps with GM MIDI channel 10 recognition)\n",
    "drum_part.insert(0, instrument.UnpitchedPercussion())\n",
    "\n",
    "# Set a tempo (120 BPM) and a 4/4 time signature\n",
    "drum_part.insert(0, tempo.MetronomeMark(number=120))\n",
    "drum_part.append(meter.TimeSignature('4/4'))\n",
    "\n",
    "# Create a Measure\n",
    "m1 = stream.Measure()\n",
    "m1.number = 1  # measure number (optional but good practice)\n",
    "\n",
    "# QuarterLength of an eighth note is 0.5\n",
    "# We will place notes at offsets in the measure (0, 0.5, 1.0, 1.5, etc.)\n",
    "\n",
    "#\n",
    "#  1     &     2     &     3     &     4     &\n",
    "#  offset=0   0.5    1.0   1.5    2.0   2.5    3.0   3.5\n",
    "#\n",
    "\n",
    "# Offsets (in quarterLength units) for a 4/4 bar subdivided into eighths\n",
    "offsets = [i*0.5 for i in range(8)]  # [0, 0.5, 1.0, 1.5, 2.0, 2.5, 3.0, 3.5]\n",
    "\n",
    "# Basic rock pattern:\n",
    "#  - Kick (36) on beats 1, 3  -> offsets 0, 2.0\n",
    "#  - Snare (38) on beats 2, 4 -> offsets 1.0, 3.0\n",
    "#  - Hi-hat (42) on every 8th note -> offsets 0,0.5,1.0,1.5,2.0,2.5,3.0,3.5\n",
    "\n",
    "for off in offsets:\n",
    "    # Hi-Hat always\n",
    "    hat = note.Note(42, quarterLength=0.5)\n",
    "    m1.insert(off, hat)\n",
    "    \n",
    "    # Kick on offset 0 and 2.0\n",
    "    if off == 0 or off == 2.0:\n",
    "        kick = note.Note(36, quarterLength=0.5)\n",
    "        m1.insert(off, kick)\n",
    "    \n",
    "    # Snare on offset 1.0 and 3.0\n",
    "    if off == 1.0 or off == 3.0:\n",
    "        snare = note.Note(38, quarterLength=0.5)\n",
    "        m1.insert(off, snare)\n",
    "\n",
    "# Append measure 1 to the part\n",
    "drum_part.append(m1)\n",
    "\n",
    "# Make a second measure (exact same pattern but new measure) just by cloning\n",
    "m2 = deepcopy(m1)\n",
    "m2.number = 2\n",
    "drum_part.append(m2)\n",
    "\n",
    "# Add the drum part to the score\n",
    "score.insert(0, drum_part)\n",
    "\n",
    "# Show the textual representation\n",
    "print(score.show('text'))\n",
    "\n",
    "# For MIDI playback:\n",
    "score.show('xml')\n",
    "# Or write out to MIDI:\n",
    "# score.write('midi', fp='rock_beat_individual_notes.mid')"
   ]
  },
  {
   "cell_type": "code",
   "execution_count": null,
   "metadata": {},
   "outputs": [],
   "source": []
  }
 ],
 "metadata": {
  "kernelspec": {
   "display_name": "cmc",
   "language": "python",
   "name": "python3"
  },
  "language_info": {
   "codemirror_mode": {
    "name": "ipython",
    "version": 3
   },
   "file_extension": ".py",
   "mimetype": "text/x-python",
   "name": "python",
   "nbconvert_exporter": "python",
   "pygments_lexer": "ipython3",
   "version": "3.10.6"
  }
 },
 "nbformat": 4,
 "nbformat_minor": 2
}
