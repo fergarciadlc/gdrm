{
 "cells": [
  {
   "cell_type": "code",
   "execution_count": null,
   "metadata": {},
   "outputs": [],
   "source": [
    "import music21\n",
    "\n",
    "music21.environment.set('musicxmlPath', '/Applications/MuseScore 4.app')"
   ]
  },
  {
   "cell_type": "code",
   "execution_count": null,
   "metadata": {},
   "outputs": [],
   "source": [
    "from music21 import converter, tempo\n",
    "\n",
    "# Load the MIDI file\n",
    "score = converter.parse(\n",
    "    \"/Users/fernando/dev/upf/cmc24/gdrm/dataset/drummer1/session1/4_jazz-funk_116_beat_4-4.mid\",\n",
    "    format=\"midi\",\n",
    "    quantizePost=False,\n",
    ")"
   ]
  },
  {
   "cell_type": "code",
   "execution_count": null,
   "metadata": {},
   "outputs": [],
   "source": [
    "score.show(\"midi\")"
   ]
  },
  {
   "cell_type": "code",
   "execution_count": null,
   "metadata": {},
   "outputs": [],
   "source": [
    "\n",
    "\n",
    "# Get tempo markings from the score\n",
    "tempo_markings = score.metronomeMarkBoundaries()\n",
    "\n",
    "# Display BPM\n",
    "for start, end, metronomeMark in tempo_markings:\n",
    "    if isinstance(metronomeMark, tempo.MetronomeMark):\n",
    "        print(f\"Tempo: {metronomeMark.number} BPM (from offset {start} to {end})\")"
   ]
  },
  {
   "cell_type": "code",
   "execution_count": null,
   "metadata": {},
   "outputs": [],
   "source": [
    "tempo_markings"
   ]
  },
  {
   "cell_type": "code",
   "execution_count": null,
   "metadata": {},
   "outputs": [],
   "source": [
    "midi_path = \"music21_output.mid\"\n",
    "score.write('midi', fp=midi_path)\n",
    "\n",
    "print(f\"MIDI file saved to {midi_path}\")"
   ]
  },
  {
   "cell_type": "code",
   "execution_count": null,
   "metadata": {},
   "outputs": [],
   "source": []
  },
  {
   "cell_type": "code",
   "execution_count": null,
   "metadata": {},
   "outputs": [],
   "source": [
    "score.__dir__()"
   ]
  },
  {
   "cell_type": "code",
   "execution_count": null,
   "metadata": {},
   "outputs": [],
   "source": [
    "converter.subConverters.ConverterJSON"
   ]
  },
  {
   "cell_type": "code",
   "execution_count": null,
   "metadata": {},
   "outputs": [],
   "source": []
  },
  {
   "cell_type": "code",
   "execution_count": null,
   "metadata": {},
   "outputs": [],
   "source": [
    "for part in score.parts:\n",
    "    print(part)\n",
    "    for note in part.flat.notes:\n",
    "        print(note)"
   ]
  },
  {
   "cell_type": "code",
   "execution_count": null,
   "metadata": {},
   "outputs": [],
   "source": [
    "note"
   ]
  },
  {
   "cell_type": "code",
   "execution_count": null,
   "metadata": {},
   "outputs": [],
   "source": [
    "import muspy\n",
    "\n",
    "music = muspy.from_music21_score(score)"
   ]
  },
  {
   "cell_type": "code",
   "execution_count": null,
   "metadata": {},
   "outputs": [],
   "source": [
    "score.show(\"text\")"
   ]
  },
  {
   "cell_type": "code",
   "execution_count": null,
   "metadata": {},
   "outputs": [],
   "source": [
    "music_dict = music.to_ordered_dict()"
   ]
  },
  {
   "cell_type": "code",
   "execution_count": null,
   "metadata": {},
   "outputs": [],
   "source": [
    "dict(dict(music_dict)[\"barlines\"][0])"
   ]
  },
  {
   "cell_type": "code",
   "execution_count": null,
   "metadata": {},
   "outputs": [],
   "source": [
    "from music21 import stream\n",
    "\n",
    "my_dict = {}\n",
    "\n",
    "# Iterate over each Part in the Score\n",
    "for p in score.parts:\n",
    "    # Iterate over the Measure objects in each Part\n",
    "    for meas in p.getElementsByClass(stream.Measure):\n",
    "        offset = meas.offset  # the offset of the measure in the Part\n",
    "        measure_number = meas.measureNumber\n",
    "        \n",
    "        # Gather the notes (and rests) in that measure\n",
    "        # (or use notesAndRests, or getElementsByClass('Note') if you only want notes, etc.)\n",
    "        notes_list = list(meas.notesAndRests)\n",
    "        \n",
    "        # You can store anything else you want, like key signatures, clefs, etc.:\n",
    "        # key_signature = meas.keySignature\n",
    "        # clef = meas.clef\n",
    "        # time_signature = meas.timeSignature\n",
    "        \n",
    "        # Build up the dictionary entry\n",
    "        my_dict[offset] = {\n",
    "            'measure_number': measure_number,\n",
    "            'notes': notes_list,\n",
    "            # 'key_signature': key_signature,\n",
    "            # 'clef': clef,\n",
    "            # 'time_signature': time_signature,\n",
    "        }\n",
    "\n",
    "# Now my_dict has your measure offsets as keys, and each value holds measure metadata.\n"
   ]
  },
  {
   "cell_type": "code",
   "execution_count": null,
   "metadata": {},
   "outputs": [],
   "source": [
    "my_dict"
   ]
  },
  {
   "cell_type": "code",
   "execution_count": null,
   "metadata": {},
   "outputs": [],
   "source": [
    "my_notes_info = []\n",
    "\n",
    "for part in score.parts:\n",
    "    for measure in part.getElementsByClass(stream.Measure):\n",
    "        # measureOffset is measure.offset -- offset in the Part\n",
    "        measureOffset = measure.offset\n",
    "        measureNumber = measure.measureNumber\n",
    "        \n",
    "        for n in measure.notesAndRests:\n",
    "            # offset in the measure:\n",
    "            noteLocalOffset = n.offset  \n",
    "            # absolute offset in the entire Score:\n",
    "            noteGlobalOffset = n.getOffsetInHierarchy(score)\n",
    "\n",
    "            my_notes_info.append({\n",
    "                'measureNumber': measureNumber,\n",
    "                'measureOffset': measureOffset,\n",
    "                'noteLocalOffset': noteLocalOffset,\n",
    "                'noteGlobalOffset': noteGlobalOffset,\n",
    "                'element': n\n",
    "            })\n",
    "\n",
    "# Now `my_notes_info` is a list of dicts describing each note/rest’s offsets"
   ]
  },
  {
   "cell_type": "code",
   "execution_count": null,
   "metadata": {},
   "outputs": [],
   "source": [
    "my_notes_info"
   ]
  },
  {
   "cell_type": "code",
   "execution_count": null,
   "metadata": {},
   "outputs": [],
   "source": [
    "my_notes_info[7]"
   ]
  },
  {
   "cell_type": "code",
   "execution_count": null,
   "metadata": {},
   "outputs": [],
   "source": [
    "817/240"
   ]
  },
  {
   "cell_type": "code",
   "execution_count": null,
   "metadata": {},
   "outputs": [],
   "source": [
    "import numpy as np\n",
    "sixteenth_divs = np.linspace(0, 4, 32, endpoint=False)\n",
    "eighth_triplet_divs = np.linspace(0, 4, 24, endpoint=False)\n",
    "total_divs = set(sixteenth_divs).union(set(eighth_triplet_divs))\n",
    "total_divs = sorted(list(total_divs))\n",
    "\n",
    "print(total_divs)\n",
    "print(len(total_divs))"
   ]
  },
  {
   "cell_type": "code",
   "execution_count": null,
   "metadata": {},
   "outputs": [],
   "source": []
  }
 ],
 "metadata": {
  "kernelspec": {
   "display_name": "cmc",
   "language": "python",
   "name": "python3"
  },
  "language_info": {
   "codemirror_mode": {
    "name": "ipython",
    "version": 3
   },
   "file_extension": ".py",
   "mimetype": "text/x-python",
   "name": "python",
   "nbconvert_exporter": "python",
   "pygments_lexer": "ipython3",
   "version": "3.10.6"
  }
 },
 "nbformat": 4,
 "nbformat_minor": 2
}
